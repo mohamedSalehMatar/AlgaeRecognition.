{
  "nbformat": 4,
  "nbformat_minor": 0,
  "metadata": {
    "colab": {
      "provenance": [],
      "authorship_tag": "ABX9TyMedDa4qct1EG+/LfTUs2iQ",
      "include_colab_link": true
    },
    "kernelspec": {
      "name": "python3",
      "display_name": "Python 3"
    },
    "language_info": {
      "name": "python"
    }
  },
  "cells": [
    {
      "cell_type": "markdown",
      "metadata": {
        "id": "view-in-github",
        "colab_type": "text"
      },
      "source": [
        "<a href=\"https://colab.research.google.com/github/mohamedSalehMatar/AlgaeRecognition./blob/main/AlgaeRecognition.ipynb\" target=\"_parent\"><img src=\"https://colab.research.google.com/assets/colab-badge.svg\" alt=\"Open In Colab\"/></a>"
      ]
    },
    {
      "cell_type": "code",
      "execution_count": 5,
      "metadata": {
        "id": "zn21UVpXN9Fl"
      },
      "outputs": [],
      "source": [
        "import cv2\n",
        "import numpy as np\n",
        "from scipy import ndimage\n",
        "import matplotlib.pyplot as plt\n",
        "from google.colab.patches import cv2_imshow\n",
        "from scipy.fft import fft\n",
        "from google.colab import files"
      ]
    },
    {
      "cell_type": "code",
      "source": [
        "# Load the image\n",
        "\n",
        "print(\"Upload the template image:\")\n",
        "uploaded = files.upload()\n",
        "template_filename = list(uploaded.keys())[0]\n",
        "image = cv2.imdecode(np.frombuffer(uploaded[template_filename], np.uint8), cv2.IMREAD_UNCHANGED)\n",
        "cv2_imshow(image)\n",
        "\n",
        "# Convert the image to grayscale\n",
        "gray = cv2.cvtColor(image, cv2.COLOR_BGR2GRAY)\n",
        "cv2_imshow(gray)"
      ],
      "metadata": {
        "id": "H-2eXJLrdsz8"
      },
      "execution_count": null,
      "outputs": []
    },
    {
      "cell_type": "code",
      "source": [
        "# Apply Gaussian blur to reduce noise\n",
        "blurred = cv2.GaussianBlur(gray, (7, 7), 0)\n",
        "cv2_imshow(blurred)\n",
        "\n",
        "# Perform edge detection using Canny\n",
        "edge = cv2.Canny(blurred, 30, 150)\n",
        "cv2_imshow(edge)\n",
        "\n",
        "# Apply morphological closing\n",
        "kernel = np.ones((5,5),np.uint8)\n",
        "edges = cv2.morphologyEx(edge, cv2.MORPH_CLOSE, kernel)\n",
        "cv2_imshow(edges)"
      ],
      "metadata": {
        "id": "vOqtRnkKpep7"
      },
      "execution_count": null,
      "outputs": []
    },
    {
      "cell_type": "code",
      "source": [
        "# Find contours in the image\n",
        "contours, _ = cv2.findContours(edges.copy(), cv2.RETR_EXTERNAL, cv2.CHAIN_APPROX_SIMPLE)\n",
        "\n",
        "# Draw the filtered contours on the original image\n",
        "output = image.copy()\n",
        "cv2.drawContours(output, contours, -1, (0, 255, 0), 2)\n",
        "\n",
        "cv2_imshow(output)"
      ],
      "metadata": {
        "id": "EzDfXygxpskd"
      },
      "execution_count": null,
      "outputs": []
    },
    {
      "cell_type": "code",
      "source": [
        "# Find the tallest contour\n",
        "tallest_contour = max(contours, key=lambda contour: cv2.boundingRect(contour)[3])\n",
        "\n",
        "# Create a blank image of the same size as the original image\n",
        "signature = np.zeros_like(image)\n",
        "\n",
        "# Draw the tallest contour on the blank image\n",
        "cv2.drawContours(signature, [tallest_contour], -1, (255, 255, 255), thickness=cv2.FILLED)\n",
        "\n",
        "# Find the bounding rectangle of the tallest contour\n",
        "x, y, w, h = cv2.boundingRect(tallest_contour)\n",
        "\n",
        "# Crop the signature from the image\n",
        "signature = signature[y:y+h, x:x+w]\n",
        "\n",
        "# Now 'signature' contains the extracted signature of the tallest contour\n",
        "cv2_imshow(signature)"
      ],
      "metadata": {
        "id": "LbrzqEVdugaS"
      },
      "execution_count": null,
      "outputs": []
    },
    {
      "cell_type": "code",
      "source": [
        "# Convert the tallest contour points to a 2D array\n",
        "points = tallest_contour.reshape(-1, 2)\n",
        "\n",
        "# Separate the x and y coordinates\n",
        "x = points[:, 0]\n",
        "y = points[:, 1]\n",
        "\n",
        "# Plot the points of the tallest contour\n",
        "plt.figure(figsize=(10,5))\n",
        "plt.subplot(1,2,1)\n",
        "plt.plot(x, y)\n",
        "plt.title('Contour Plot')\n",
        "\n",
        "# Calculate the center of the contour\n",
        "cx = np.mean(x)\n",
        "cy = np.mean(y)\n",
        "\n",
        "# Calculate the distance and angle for each point in the contour\n",
        "distances = np.sqrt((x-cx)**2 + (y-cy)**2)\n",
        "angles = np.arctan2(y-cy, x-cx)\n",
        "\n",
        "# Plot distance versus angle\n",
        "plt.subplot(1,2,2)\n",
        "plt.plot(np.degrees(angles), distances)\n",
        "plt.title('Distance vs Angle')\n",
        "plt.xlabel('Angle (degrees)')\n",
        "plt.ylabel('Distance')\n",
        "\n",
        "# Show the plots\n",
        "plt.tight_layout()\n",
        "plt.show()"
      ],
      "metadata": {
        "id": "aD5IcDbNxbn3"
      },
      "execution_count": null,
      "outputs": []
    }
  ]
}